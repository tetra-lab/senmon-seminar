{
 "cells": [
  {
   "cell_type": "code",
   "execution_count": 29,
   "metadata": {
    "vscode": {
     "languageId": "r"
    }
   },
   "outputs": [],
   "source": [
    "library(wooldridge)\n",
    "library(dplyr)\n",
    "library(stargazer)\n",
    "library(estimatr)\n",
    "library(broom)\n",
    "library(texreg)\n",
    "library(lubridate)\n",
    "library(ggplot2)\n",
    "library(tidyr)"
   ]
  },
  {
   "cell_type": "markdown",
   "metadata": {},
   "source": [
    "# 大問1"
   ]
  },
  {
   "cell_type": "markdown",
   "metadata": {},
   "source": [
    "### 1."
   ]
  },
  {
   "cell_type": "code",
   "execution_count": 30,
   "metadata": {
    "vscode": {
     "languageId": "r"
    }
   },
   "outputs": [
    {
     "name": "stdout",
     "output_type": "stream",
     "text": [
      "\n",
      "<table style=\"text-align:center\"><tr><td colspan=\"4\" style=\"border-bottom: 1px solid black\"></td></tr><tr><td style=\"text-align:left\"></td><td colspan=\"3\"><em>Dependent variable:</em></td></tr>\n",
      "<tr><td></td><td colspan=\"3\" style=\"border-bottom: 1px solid black\"></td></tr>\n",
      "<tr><td style=\"text-align:left\"></td><td colspan=\"3\">lwage</td></tr>\n",
      "<tr><td style=\"text-align:left\"></td><td>(1)</td><td>(2)</td><td>(3)</td></tr>\n",
      "<tr><td colspan=\"4\" style=\"border-bottom: 1px solid black\"></td></tr><tr><td style=\"text-align:left\">looks</td><td>0.051<sup>**</sup></td><td>0.018</td><td>0.023</td></tr>\n",
      "<tr><td style=\"text-align:left\"></td><td>(0.024)</td><td>(0.024)</td><td>(0.021)</td></tr>\n",
      "<tr><td style=\"text-align:left\"></td><td></td><td></td><td></td></tr>\n",
      "<tr><td style=\"text-align:left\">black</td><td></td><td>-0.175<sup>***</sup></td><td>-0.059</td></tr>\n",
      "<tr><td style=\"text-align:left\"></td><td></td><td>(0.062)</td><td>(0.056)</td></tr>\n",
      "<tr><td style=\"text-align:left\"></td><td></td><td></td><td></td></tr>\n",
      "<tr><td style=\"text-align:left\">educ</td><td></td><td>0.057<sup>***</sup></td><td>0.059<sup>***</sup></td></tr>\n",
      "<tr><td style=\"text-align:left\"></td><td></td><td>(0.006)</td><td>(0.006)</td></tr>\n",
      "<tr><td style=\"text-align:left\"></td><td></td><td></td><td></td></tr>\n",
      "<tr><td style=\"text-align:left\">female</td><td></td><td></td><td>-0.547<sup>***</sup></td></tr>\n",
      "<tr><td style=\"text-align:left\"></td><td></td><td></td><td>(0.030)</td></tr>\n",
      "<tr><td style=\"text-align:left\"></td><td></td><td></td><td></td></tr>\n",
      "<tr><td style=\"text-align:left\">Constant</td><td>1.496<sup>***</sup></td><td>0.896<sup>***</sup></td><td>1.033<sup>***</sup></td></tr>\n",
      "<tr><td style=\"text-align:left\"></td><td>(0.080)</td><td>(0.102)</td><td>(0.092)</td></tr>\n",
      "<tr><td style=\"text-align:left\"></td><td></td><td></td><td></td></tr>\n",
      "<tr><td colspan=\"4\" style=\"border-bottom: 1px solid black\"></td></tr><tr><td style=\"text-align:left\">Observations</td><td>1,260</td><td>1,260</td><td>1,260</td></tr>\n",
      "<tr><td style=\"text-align:left\">R<sup>2</sup></td><td>0.003</td><td>0.077</td><td>0.266</td></tr>\n",
      "<tr><td style=\"text-align:left\">Adjusted R<sup>2</sup></td><td>0.003</td><td>0.075</td><td>0.263</td></tr>\n",
      "<tr><td style=\"text-align:left\">Residual Std. Error</td><td>0.594 (df = 1258)</td><td>0.572 (df = 1256)</td><td>0.510 (df = 1255)</td></tr>\n",
      "<tr><td style=\"text-align:left\">F Statistic</td><td>4.349<sup>**</sup> (df = 1; 1258)</td><td>34.908<sup>***</sup> (df = 3; 1256)</td><td>113.542<sup>***</sup> (df = 4; 1255)</td></tr>\n",
      "<tr><td colspan=\"4\" style=\"border-bottom: 1px solid black\"></td></tr><tr><td style=\"text-align:left\"><em>Note:</em></td><td colspan=\"3\" style=\"text-align:right\"><sup>*</sup>p<0.1; <sup>**</sup>p<0.05; <sup>***</sup>p<0.01</td></tr>\n",
      "</table>\n"
     ]
    }
   ],
   "source": [
    "data(\"beauty\")\n",
    "\n",
    "# 回帰モデル1: コントロール変数なし\n",
    "model1 <- lm(lwage ~ looks, data = beauty)\n",
    "\n",
    "# 回帰モデル2: コントロール変数を追加 (人種と教育)\n",
    "model2 <- lm(lwage ~ looks + black + educ, data = beauty)\n",
    "\n",
    "# 回帰モデル3: さらにコントロール変数を追加 (性別)\n",
    "model3 <- lm(lwage ~ looks + black + educ + female, data = beauty)\n",
    "\n",
    "# HTML形式で保存\n",
    "stargazer(model1, model2, model3, type = \"html\", out = \"大問1-1.html\")"
   ]
  },
  {
   "cell_type": "markdown",
   "metadata": {},
   "source": [
    "looksの係数は0.051であり, 有意水準5%で有意である.  \n",
    "したがって, 外見が良ければ賃金に正の影響を与えるといえる.  \n",
    "\n",
    "コントロール変数の追加によって係数は0に近づき, かつ有意でなくなった."
   ]
  },
  {
   "cell_type": "markdown",
   "metadata": {},
   "source": [
    "### 2."
   ]
  },
  {
   "cell_type": "code",
   "execution_count": 31,
   "metadata": {
    "vscode": {
     "languageId": "r"
    }
   },
   "outputs": [
    {
     "name": "stdout",
     "output_type": "stream",
     "text": [
      "\n",
      "<table style=\"text-align:center\"><tr><td colspan=\"4\" style=\"border-bottom: 1px solid black\"></td></tr><tr><td style=\"text-align:left\"></td><td colspan=\"3\"><em>Dependent variable:</em></td></tr>\n",
      "<tr><td></td><td colspan=\"3\" style=\"border-bottom: 1px solid black\"></td></tr>\n",
      "<tr><td style=\"text-align:left\"></td><td colspan=\"3\">lwage</td></tr>\n",
      "<tr><td style=\"text-align:left\"></td><td>(1)</td><td>(2)</td><td>(3)</td></tr>\n",
      "<tr><td colspan=\"4\" style=\"border-bottom: 1px solid black\"></td></tr><tr><td style=\"text-align:left\">belavg</td><td>-0.209<sup>***</sup></td><td>-0.187<sup>***</sup></td><td>-0.150<sup>***</sup></td></tr>\n",
      "<tr><td style=\"text-align:left\"></td><td>(0.052)</td><td>(0.050)</td><td>(0.045)</td></tr>\n",
      "<tr><td style=\"text-align:left\"></td><td></td><td></td><td></td></tr>\n",
      "<tr><td style=\"text-align:left\">abvavg</td><td>-0.045</td><td>-0.085<sup>**</sup></td><td>-0.057<sup>*</sup></td></tr>\n",
      "<tr><td style=\"text-align:left\"></td><td>(0.037)</td><td>(0.036)</td><td>(0.032)</td></tr>\n",
      "<tr><td style=\"text-align:left\"></td><td></td><td></td><td></td></tr>\n",
      "<tr><td style=\"text-align:left\">black</td><td></td><td>-0.184<sup>***</sup></td><td>-0.067</td></tr>\n",
      "<tr><td style=\"text-align:left\"></td><td></td><td>(0.062)</td><td>(0.056)</td></tr>\n",
      "<tr><td style=\"text-align:left\"></td><td></td><td></td><td></td></tr>\n",
      "<tr><td style=\"text-align:left\">educ</td><td></td><td>0.058<sup>***</sup></td><td>0.060<sup>***</sup></td></tr>\n",
      "<tr><td style=\"text-align:left\"></td><td></td><td>(0.006)</td><td>(0.006)</td></tr>\n",
      "<tr><td style=\"text-align:left\"></td><td></td><td></td><td></td></tr>\n",
      "<tr><td style=\"text-align:left\">female</td><td></td><td></td><td>-0.540<sup>***</sup></td></tr>\n",
      "<tr><td style=\"text-align:left\"></td><td></td><td></td><td>(0.030)</td></tr>\n",
      "<tr><td style=\"text-align:left\"></td><td></td><td></td><td></td></tr>\n",
      "<tr><td style=\"text-align:left\">Constant</td><td>1.698<sup>***</sup></td><td>0.997<sup>***</sup></td><td>1.134<sup>***</sup></td></tr>\n",
      "<tr><td style=\"text-align:left\"></td><td>(0.022)</td><td>(0.081)</td><td>(0.073)</td></tr>\n",
      "<tr><td style=\"text-align:left\"></td><td></td><td></td><td></td></tr>\n",
      "<tr><td colspan=\"4\" style=\"border-bottom: 1px solid black\"></td></tr><tr><td style=\"text-align:left\">Observations</td><td>1,260</td><td>1,260</td><td>1,260</td></tr>\n",
      "<tr><td style=\"text-align:left\">R<sup>2</sup></td><td>0.013</td><td>0.088</td><td>0.272</td></tr>\n",
      "<tr><td style=\"text-align:left\">Adjusted R<sup>2</sup></td><td>0.011</td><td>0.085</td><td>0.269</td></tr>\n",
      "<tr><td style=\"text-align:left\">Residual Std. Error</td><td>0.591 (df = 1257)</td><td>0.569 (df = 1255)</td><td>0.508 (df = 1254)</td></tr>\n",
      "<tr><td style=\"text-align:left\">F Statistic</td><td>7.985<sup>***</sup> (df = 2; 1257)</td><td>30.338<sup>***</sup> (df = 4; 1255)</td><td>93.736<sup>***</sup> (df = 5; 1254)</td></tr>\n",
      "<tr><td colspan=\"4\" style=\"border-bottom: 1px solid black\"></td></tr><tr><td style=\"text-align:left\"><em>Note:</em></td><td colspan=\"3\" style=\"text-align:right\"><sup>*</sup>p<0.1; <sup>**</sup>p<0.05; <sup>***</sup>p<0.01</td></tr>\n",
      "</table>\n"
     ]
    }
   ],
   "source": [
    "# 回帰モデル1: コントロール変数なし\n",
    "model1 <- lm(lwage ~ belavg + abvavg, data = beauty)\n",
    "\n",
    "# 回帰モデル2: コントロール変数を追加 (人種と教育)\n",
    "model2 <- lm(lwage ~ belavg + abvavg + black + educ, data = beauty)\n",
    "\n",
    "# 回帰モデル3: さらにコントロール変数を追加 (経験)\n",
    "model3 <- lm(lwage ~ belavg + abvavg + black + educ + female, data = beauty)\n",
    "\n",
    "# HTML形式で保存\n",
    "stargazer(model1, model2, model3, type = \"html\", out = \"大問1-2.html\")"
   ]
  },
  {
   "cell_type": "markdown",
   "metadata": {},
   "source": [
    "belavgの係数は3つのモデル全てにおいて負であり, 有意水準1%で有意.  \n",
    "abvavgの係数は0に近く, かつ有意性でない.  \n",
    "\n",
    "したがって, 平均以下の外見は賃金に負の影響を与えるといえるが, 平均以上の外見が賃金に何かしらの影響を与えるかどうかは分からない."
   ]
  },
  {
   "cell_type": "markdown",
   "metadata": {},
   "source": [
    "### 3."
   ]
  },
  {
   "cell_type": "markdown",
   "metadata": {},
   "source": [
    "問1のモデルは全体的な外見評価の影響を捉えるのに対し, 問2のモデルは外見が特定のレベルで賃金にどのように影響するかを分析している.\n",
    "\n",
    "問2のモデルにおいて, 平均以下の外見が賃金に負の影響を与えているということは, 相対的に良い外見である方が高賃金であると解釈できる.  \n",
    "このことが問1におけるlooksの係数正かつ有意である理由と考えられる."
   ]
  },
  {
   "cell_type": "markdown",
   "metadata": {},
   "source": [
    "### 4."
   ]
  },
  {
   "cell_type": "code",
   "execution_count": 32,
   "metadata": {
    "vscode": {
     "languageId": "r"
    }
   },
   "outputs": [
    {
     "name": "stderr",
     "output_type": "stream",
     "text": [
      "The table was written to the file '大問1-4.html'.\n",
      "\n",
      "\n"
     ]
    }
   ],
   "source": [
    "# 高卒の定義\n",
    "beauty$highschool <- ifelse(beauty$educ >= 12, 1, 0)\n",
    "\n",
    "# 大卒の定義\n",
    "beauty$college <- ifelse(beauty$educ >= 16, 1, 0)\n",
    "\n",
    "# 高卒になる可能性のモデル（頑健な標準誤差を使用）\n",
    "model_highschool <- lm_robust(highschool ~ belavg + abvavg + black + female , data = beauty, se_type = \"HC0\")\n",
    "\n",
    "# 大卒になる可能性のモデル（頑健な標準誤差を使用）\n",
    "model_college <- lm_robust(college ~ belavg + abvavg + black + female , data = beauty, se_type = \"HC0\")\n",
    "\n",
    "# html出力(stargazerはlm_robustに非対応なので、htmlregパッケージを用いる)\n",
    "htmlreg(list(model_highschool,\n",
    "             model_college),\n",
    "        file = \"大問1-4.html\",\n",
    "        include.ci = FALSE,\n",
    "        custom.model.names = c(\"高卒\", \"大卒\")\n",
    "        )"
   ]
  },
  {
   "cell_type": "markdown",
   "metadata": {},
   "source": [
    "belavgに関しては, 高卒は-0.06, 大卒は-0.04で, どちらも有意水準5%で有意でない.  \n",
    "abvavgに関しては, 高卒は0.11で有意水準0.01%で有意であるが, 大卒は0.06で有意水準5%で有意である.  \n",
    "\n",
    "したがって, 平均以上の外見は高卒確率に大きく影響を与えているといえる."
   ]
  },
  {
   "cell_type": "markdown",
   "metadata": {},
   "source": [
    "# 大問2"
   ]
  },
  {
   "cell_type": "markdown",
   "metadata": {},
   "source": [
    "### 1."
   ]
  },
  {
   "cell_type": "markdown",
   "metadata": {},
   "source": [
    "post: 1930年11月1日以降なら1, 以前なら0  \n",
    "treat: 第6地区なら1, 第8地区なら0\n",
    "\n",
    "$Y_{it} = \\alpha + \\beta_1 post_t + \\beta_2 treat_i + \\beta_3 (post_t × treat_i) + \\epsilon_{it}$"
   ]
  },
  {
   "cell_type": "markdown",
   "metadata": {},
   "source": [
    "### 2."
   ]
  },
  {
   "cell_type": "markdown",
   "metadata": {},
   "source": [
    "因果効果を識別するために必要な仮定：並行トレンドの仮定"
   ]
  },
  {
   "cell_type": "code",
   "execution_count": 33,
   "metadata": {
    "vscode": {
     "languageId": "r"
    }
   },
   "outputs": [
    {
     "data": {
      "image/png": "[encoded data removed]",
      "text/plain": [
       "plot without title"
      ]
     },
     "metadata": {
      "image/png": {
       "height": 420,
       "width": 600
      }
     },
     "output_type": "display_data"
    }
   ],
   "source": [
    "# データ読み込み\n",
    "data <- read.csv(\"banks.csv\")\n",
    "# 日付変数の作成とフィルタリング\n",
    "sample <- data %>%\n",
    "  mutate(date = make_date(year, month, day)) %>%\n",
    "  filter(date >= as.Date(\"1930-04-01\") & date <= as.Date(\"1931-06-30\"))\n",
    "\n",
    "# 平行トレンドを確認するための図の作成\n",
    "\n",
    "options(repr.plot.width=10, repr.plot.height=7)\n",
    "\n",
    "ggplot(sample, aes(x = date)) +\n",
    "  geom_line(aes(y = bib6, color = \"第6地区\")) +\n",
    "  geom_line(aes(y = bib8, color = \"第8地区\")) +\n",
    "  labs(title = \"平行トレンドの確認\", y = \"銀行数\", x = \"日付\")"
   ]
  },
  {
   "cell_type": "markdown",
   "metadata": {},
   "source": [
    "### 3."
   ]
  },
  {
   "cell_type": "code",
   "execution_count": 34,
   "metadata": {
    "vscode": {
     "languageId": "r"
    }
   },
   "outputs": [
    {
     "name": "stdout",
     "output_type": "stream",
     "text": [
      "\u001b[90m# A tibble: 2 × 3\u001b[39m\n",
      "  period bib6_mean bib8_mean\n",
      "  \u001b[3m\u001b[90m<chr>\u001b[39m\u001b[23m      \u001b[3m\u001b[90m<dbl>\u001b[39m\u001b[23m     \u001b[3m\u001b[90m<dbl>\u001b[39m\u001b[23m\n",
      "\u001b[90m1\u001b[39m post        124.      139.\n",
      "\u001b[90m2\u001b[39m pre         136.      165.\n"
     ]
    }
   ],
   "source": [
    "# 日付変数の作成とフィルタリング\n",
    "sample <- data %>%\n",
    "  mutate(date = make_date(year, month, day)) %>%\n",
    "  filter(date >= as.Date(\"1930-04-01\") & date <= as.Date(\"1931-06-30\")) %>%\n",
    "  mutate(period = ifelse(date < as.Date(\"1930-11-01\"), \"pre\", \"post\"))\n",
    "\n",
    "# 期間ごとの集計\n",
    "banks_summary <- sample %>%\n",
    "  group_by(period) %>%\n",
    "  summarize(bib6_mean = mean(bib6, na.rm = TRUE), bib8_mean = mean(bib8, na.rm = TRUE))\n",
    "\n",
    "# 結果の表示\n",
    "print(banks_summary)"
   ]
  },
  {
   "cell_type": "markdown",
   "metadata": {},
   "source": [
    "### 4."
   ]
  },
  {
   "cell_type": "code",
   "execution_count": 35,
   "metadata": {
    "vscode": {
     "languageId": "r"
    }
   },
   "outputs": [
    {
     "data": {
      "text/plain": [
       "\n",
       "Call:\n",
       "lm(formula = banks ~ post + treat + interaction, data = sample)\n",
       "\n",
       "Residuals:\n",
       "    Min      1Q  Median      3Q     Max \n",
       "-7.9545 -2.6116 -0.5327  0.6963 24.0455 \n",
       "\n",
       "Coefficients:\n",
       "            Estimate Std. Error t value Pr(>|t|)    \n",
       "(Intercept) 165.3037     0.4391  376.48   <2e-16 ***\n",
       "post        -26.3492     0.6027  -43.72   <2e-16 ***\n",
       "treat       -29.7710     0.6209  -47.95   <2e-16 ***\n",
       "interaction  14.4281     0.8524   16.93   <2e-16 ***\n",
       "---\n",
       "Signif. codes:  0 '***' 0.001 '**' 0.01 '*' 0.05 '.' 0.1 ' ' 1\n",
       "\n",
       "Residual standard error: 6.423 on 908 degrees of freedom\n",
       "Multiple R-squared:  0.8464,\tAdjusted R-squared:  0.8459 \n",
       "F-statistic:  1668 on 3 and 908 DF,  p-value: < 2.2e-16\n"
      ]
     },
     "metadata": {},
     "output_type": "display_data"
    },
    {
     "name": "stdout",
     "output_type": "stream",
     "text": [
      "\n",
      "<table style=\"text-align:center\"><caption><strong>DIDモデルの結果</strong></caption>\n",
      "<tr><td colspan=\"2\" style=\"border-bottom: 1px solid black\"></td></tr><tr><td style=\"text-align:left\"></td><td><em>Dependent variable:</em></td></tr>\n",
      "<tr><td></td><td colspan=\"1\" style=\"border-bottom: 1px solid black\"></td></tr>\n",
      "<tr><td style=\"text-align:left\"></td><td>銀行数</td></tr>\n",
      "<tr><td colspan=\"2\" style=\"border-bottom: 1px solid black\"></td></tr><tr><td style=\"text-align:left\">post</td><td>-26.349<sup>***</sup></td></tr>\n",
      "<tr><td style=\"text-align:left\"></td><td>(0.603)</td></tr>\n",
      "<tr><td style=\"text-align:left\"></td><td></td></tr>\n",
      "<tr><td style=\"text-align:left\">treat</td><td>-29.771<sup>***</sup></td></tr>\n",
      "<tr><td style=\"text-align:left\"></td><td>(0.621)</td></tr>\n",
      "<tr><td style=\"text-align:left\"></td><td></td></tr>\n",
      "<tr><td style=\"text-align:left\">post x treat</td><td>14.428<sup>***</sup></td></tr>\n",
      "<tr><td style=\"text-align:left\"></td><td>(0.852)</td></tr>\n",
      "<tr><td style=\"text-align:left\"></td><td></td></tr>\n",
      "<tr><td style=\"text-align:left\">Constant</td><td>165.304<sup>***</sup></td></tr>\n",
      "<tr><td style=\"text-align:left\"></td><td>(0.439)</td></tr>\n",
      "<tr><td style=\"text-align:left\"></td><td></td></tr>\n",
      "<tr><td colspan=\"2\" style=\"border-bottom: 1px solid black\"></td></tr><tr><td style=\"text-align:left\">Observations</td><td>912</td></tr>\n",
      "<tr><td style=\"text-align:left\">R<sup>2</sup></td><td>0.846</td></tr>\n",
      "<tr><td style=\"text-align:left\">Adjusted R<sup>2</sup></td><td>0.846</td></tr>\n",
      "<tr><td style=\"text-align:left\">Residual Std. Error</td><td>6.423 (df = 908)</td></tr>\n",
      "<tr><td style=\"text-align:left\">F Statistic</td><td>1,668.347<sup>***</sup> (df = 3; 908)</td></tr>\n",
      "<tr><td colspan=\"2\" style=\"border-bottom: 1px solid black\"></td></tr><tr><td style=\"text-align:left\"><em>Note:</em></td><td style=\"text-align:right\"><sup>*</sup>p<0.1; <sup>**</sup>p<0.05; <sup>***</sup>p<0.01</td></tr>\n",
      "</table>\n"
     ]
    }
   ],
   "source": [
    "# DIDモデル\n",
    "sample <- sample %>%\n",
    "  pivot_longer(cols = starts_with(\"bib\"), \n",
    "                names_to = \"district\", \n",
    "                values_to = \"banks\") %>%\n",
    "  mutate(post = ifelse(date >= as.Date(\"1930-11-01\"), 1, 0),\n",
    "         treat = ifelse(district == \"bib6\", 1, 0),\n",
    "         interaction = post * treat)\n",
    "\n",
    "did_model <- lm(data = sample, banks ~ post + treat + interaction)\n",
    "\n",
    "# 結果の表示\n",
    "summary(did_model)\n",
    "\n",
    "# stargazerを用いて結果をHTML形式で出力\n",
    "stargazer(did_model, type = \"html\", out = \"大問2-4.html\", \n",
    "          title = \"DIDモデルの結果\",\n",
    "          dep.var.labels = \"銀行数\",\n",
    "          covariate.labels = c(\"post\", \"treat\", \"post x treat\"))"
   ]
  },
  {
   "cell_type": "markdown",
   "metadata": {},
   "source": [
    "$\\hat{\\beta_1} = -26.3$ : 全体的な下降トレンド  \n",
    "$\\hat{\\beta_2} = -29.7$ : 処置前の段階における第6地区と第8地区の平均銀行数の差  \n",
    "$\\hat{\\beta_3} = 14.4$ : 中央銀行が民間銀行に貸し出すことによる平均銀行増加数  \n",
    "\n",
    "すべて有意水準1%で有意である.  \n",
    "\n",
    "これらの数値は問題3における表の結果を正しく示しているといえる."
   ]
  }
 ],
 "metadata": {
  "kernelspec": {
   "display_name": "R",
   "language": "R",
   "name": "ir"
  },
  "language_info": {
   "codemirror_mode": "r",
   "file_extension": ".r",
   "mimetype": "text/x-r-source",
   "name": "R",
   "pygments_lexer": "r",
   "version": "4.4.0"
  }
 },
 "nbformat": 4,
 "nbformat_minor": 2
}
