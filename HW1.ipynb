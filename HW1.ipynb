{
 "cells": [
  {
   "cell_type": "code",
   "execution_count": 1,
   "metadata": {
    "vscode": {
     "languageId": "r"
    }
   },
   "outputs": [],
   "source": [
    "# パッケージをロード\n",
    "library(wooldridge)"
   ]
  },
  {
   "cell_type": "markdown",
   "metadata": {},
   "source": [
    "### 大問1\n"
   ]
  },
  {
   "cell_type": "code",
   "execution_count": 2,
   "metadata": {
    "vscode": {
     "languageId": "r"
    }
   },
   "outputs": [],
   "source": [
    "# charityデータをロード\n",
    "data(\"charity\")"
   ]
  },
  {
   "cell_type": "markdown",
   "metadata": {},
   "source": [
    "#### 1."
   ]
  },
  {
   "cell_type": "code",
   "execution_count": 3,
   "metadata": {
    "vscode": {
     "languageId": "r"
    }
   },
   "outputs": [],
   "source": [
    "# モデル1\n",
    "model1 <- lm(gift ~ mailsyear, data = charity)\n",
    "\n",
    "# モデル2\n",
    "model2 <- lm(gift ~ mailsyear + giftlast + propresp, data = charity)\n",
    "\n",
    "# モデル3\n",
    "model3 <- lm(gift ~ mailsyear + giftlast + propresp + avggift, data = charity)"
   ]
  },
  {
   "cell_type": "code",
   "execution_count": 4,
   "metadata": {
    "vscode": {
     "languageId": "r"
    }
   },
   "outputs": [
    {
     "data": {
      "text/html": [
       "<strong>$coefficients</strong> = <table class=\"dataframe\">\n",
       "<caption>A matrix: 2 × 4 of type dbl</caption>\n",
       "<thead>\n",
       "\t<tr><th></th><th scope=col>Estimate</th><th scope=col>Std. Error</th><th scope=col>t value</th><th scope=col>Pr(&gt;|t|)</th></tr>\n",
       "</thead>\n",
       "<tbody>\n",
       "\t<tr><th scope=row>(Intercept)</th><td>2.014080</td><td>0.7394696</td><td>2.723682</td><td>6.482158e-03</td></tr>\n",
       "\t<tr><th scope=row>mailsyear</th><td>2.649546</td><td>0.3430598</td><td>7.723279</td><td>1.403549e-14</td></tr>\n",
       "</tbody>\n",
       "</table>\n"
      ],
      "text/latex": [
       "\\textbf{\\$coefficients} = A matrix: 2 × 4 of type dbl\n",
       "\\begin{tabular}{r|llll}\n",
       "  & Estimate & Std. Error & t value & Pr(>\\textbar{}t\\textbar{})\\\\\n",
       "\\hline\n",
       "\t(Intercept) & 2.014080 & 0.7394696 & 2.723682 & 6.482158e-03\\\\\n",
       "\tmailsyear & 2.649546 & 0.3430598 & 7.723279 & 1.403549e-14\\\\\n",
       "\\end{tabular}\n"
      ],
      "text/markdown": [
       "**$coefficients** = \n",
       "A matrix: 2 × 4 of type dbl\n",
       "\n",
       "| <!--/--> | Estimate | Std. Error | t value | Pr(&gt;|t|) |\n",
       "|---|---|---|---|---|\n",
       "| (Intercept) | 2.014080 | 0.7394696 | 2.723682 | 6.482158e-03 |\n",
       "| mailsyear | 2.649546 | 0.3430598 | 7.723279 | 1.403549e-14 |\n",
       "\n"
      ],
      "text/plain": [
       "$coefficients\n",
       "            Estimate Std. Error  t value     Pr(>|t|)\n",
       "(Intercept) 2.014080  0.7394696 2.723682 6.482158e-03\n",
       "mailsyear   2.649546  0.3430598 7.723279 1.403549e-14\n"
      ]
     },
     "metadata": {},
     "output_type": "display_data"
    },
    {
     "data": {
      "text/html": [
       "<strong>$coefficients</strong> = <table class=\"dataframe\">\n",
       "<caption>A matrix: 4 × 4 of type dbl</caption>\n",
       "<thead>\n",
       "\t<tr><th></th><th scope=col>Estimate</th><th scope=col>Std. Error</th><th scope=col>t value</th><th scope=col>Pr(&gt;|t|)</th></tr>\n",
       "</thead>\n",
       "<tbody>\n",
       "\t<tr><th scope=row>(Intercept)</th><td>-4.551518496</td><td>0.803033625</td><td>-5.667905</td><td>1.540942e-08</td></tr>\n",
       "\t<tr><th scope=row>mailsyear</th><td> 2.166259248</td><td>0.331927051</td><td> 6.526311</td><td>7.529112e-11</td></tr>\n",
       "\t<tr><th scope=row>giftlast</th><td> 0.005926546</td><td>0.001432357</td><td> 4.137617</td><td>3.576994e-05</td></tr>\n",
       "\t<tr><th scope=row>propresp</th><td>15.358605277</td><td>0.874539404</td><td>17.561936</td><td>1.022183e-66</td></tr>\n",
       "</tbody>\n",
       "</table>\n"
      ],
      "text/latex": [
       "\\textbf{\\$coefficients} = A matrix: 4 × 4 of type dbl\n",
       "\\begin{tabular}{r|llll}\n",
       "  & Estimate & Std. Error & t value & Pr(>\\textbar{}t\\textbar{})\\\\\n",
       "\\hline\n",
       "\t(Intercept) & -4.551518496 & 0.803033625 & -5.667905 & 1.540942e-08\\\\\n",
       "\tmailsyear &  2.166259248 & 0.331927051 &  6.526311 & 7.529112e-11\\\\\n",
       "\tgiftlast &  0.005926546 & 0.001432357 &  4.137617 & 3.576994e-05\\\\\n",
       "\tpropresp & 15.358605277 & 0.874539404 & 17.561936 & 1.022183e-66\\\\\n",
       "\\end{tabular}\n"
      ],
      "text/markdown": [
       "**$coefficients** = \n",
       "A matrix: 4 × 4 of type dbl\n",
       "\n",
       "| <!--/--> | Estimate | Std. Error | t value | Pr(&gt;|t|) |\n",
       "|---|---|---|---|---|\n",
       "| (Intercept) | -4.551518496 | 0.803033625 | -5.667905 | 1.540942e-08 |\n",
       "| mailsyear |  2.166259248 | 0.331927051 |  6.526311 | 7.529112e-11 |\n",
       "| giftlast |  0.005926546 | 0.001432357 |  4.137617 | 3.576994e-05 |\n",
       "| propresp | 15.358605277 | 0.874539404 | 17.561936 | 1.022183e-66 |\n",
       "\n"
      ],
      "text/plain": [
       "$coefficients\n",
       "                Estimate  Std. Error   t value     Pr(>|t|)\n",
       "(Intercept) -4.551518496 0.803033625 -5.667905 1.540942e-08\n",
       "mailsyear    2.166259248 0.331927051  6.526311 7.529112e-11\n",
       "giftlast     0.005926546 0.001432357  4.137617 3.576994e-05\n",
       "propresp    15.358605277 0.874539404 17.561936 1.022183e-66\n"
      ]
     },
     "metadata": {},
     "output_type": "display_data"
    },
    {
     "data": {
      "text/html": [
       "<strong>$coefficients</strong> = <table class=\"dataframe\">\n",
       "<caption>A matrix: 5 × 4 of type dbl</caption>\n",
       "<thead>\n",
       "\t<tr><th></th><th scope=col>Estimate</th><th scope=col>Std. Error</th><th scope=col>t value</th><th scope=col>Pr(&gt;|t|)</th></tr>\n",
       "</thead>\n",
       "<tbody>\n",
       "\t<tr><th scope=row>(Intercept)</th><td>-7.3277630</td><td>0.75821999</td><td> -9.664429</td><td> 7.146568e-22</td></tr>\n",
       "\t<tr><th scope=row>mailsyear</th><td> 1.2011684</td><td>0.31241799</td><td>  3.844748</td><td> 1.224363e-04</td></tr>\n",
       "\t<tr><th scope=row>giftlast</th><td>-0.2608573</td><td>0.01075649</td><td>-24.251166</td><td>8.140719e-122</td></tr>\n",
       "\t<tr><th scope=row>propresp</th><td>16.2046425</td><td>0.81752921</td><td> 19.821484</td><td> 1.030457e-83</td></tr>\n",
       "\t<tr><th scope=row>avggift</th><td> 0.5269471</td><td>0.02108106</td><td> 24.996228</td><td>8.391669e-129</td></tr>\n",
       "</tbody>\n",
       "</table>\n"
      ],
      "text/latex": [
       "\\textbf{\\$coefficients} = A matrix: 5 × 4 of type dbl\n",
       "\\begin{tabular}{r|llll}\n",
       "  & Estimate & Std. Error & t value & Pr(>\\textbar{}t\\textbar{})\\\\\n",
       "\\hline\n",
       "\t(Intercept) & -7.3277630 & 0.75821999 &  -9.664429 &  7.146568e-22\\\\\n",
       "\tmailsyear &  1.2011684 & 0.31241799 &   3.844748 &  1.224363e-04\\\\\n",
       "\tgiftlast & -0.2608573 & 0.01075649 & -24.251166 & 8.140719e-122\\\\\n",
       "\tpropresp & 16.2046425 & 0.81752921 &  19.821484 &  1.030457e-83\\\\\n",
       "\tavggift &  0.5269471 & 0.02108106 &  24.996228 & 8.391669e-129\\\\\n",
       "\\end{tabular}\n"
      ],
      "text/markdown": [
       "**$coefficients** = \n",
       "A matrix: 5 × 4 of type dbl\n",
       "\n",
       "| <!--/--> | Estimate | Std. Error | t value | Pr(&gt;|t|) |\n",
       "|---|---|---|---|---|\n",
       "| (Intercept) | -7.3277630 | 0.75821999 |  -9.664429 |  7.146568e-22 |\n",
       "| mailsyear |  1.2011684 | 0.31241799 |   3.844748 |  1.224363e-04 |\n",
       "| giftlast | -0.2608573 | 0.01075649 | -24.251166 | 8.140719e-122 |\n",
       "| propresp | 16.2046425 | 0.81752921 |  19.821484 |  1.030457e-83 |\n",
       "| avggift |  0.5269471 | 0.02108106 |  24.996228 | 8.391669e-129 |\n",
       "\n"
      ],
      "text/plain": [
       "$coefficients\n",
       "              Estimate Std. Error    t value      Pr(>|t|)\n",
       "(Intercept) -7.3277630 0.75821999  -9.664429  7.146568e-22\n",
       "mailsyear    1.2011684 0.31241799   3.844748  1.224363e-04\n",
       "giftlast    -0.2608573 0.01075649 -24.251166 8.140719e-122\n",
       "propresp    16.2046425 0.81752921  19.821484  1.030457e-83\n",
       "avggift      0.5269471 0.02108106  24.996228 8.391669e-129\n"
      ]
     },
     "metadata": {},
     "output_type": "display_data"
    }
   ],
   "source": [
    "summary(model1)[\"coefficients\"]\n",
    "summary(model2)[\"coefficients\"]\n",
    "summary(model3)[\"coefficients\"]"
   ]
  },
  {
   "cell_type": "markdown",
   "metadata": {},
   "source": [
    "#### 2."
   ]
  },
  {
   "cell_type": "code",
   "execution_count": 5,
   "metadata": {
    "vscode": {
     "languageId": "r"
    }
   },
   "outputs": [
    {
     "data": {
      "text/html": [
       "<table class=\"dataframe\">\n",
       "<caption>A data.frame: 3 × 3</caption>\n",
       "<thead>\n",
       "\t<tr><th scope=col>Model</th><th scope=col>R_squared</th><th scope=col>Sample_Size</th></tr>\n",
       "\t<tr><th scope=col>&lt;chr&gt;</th><th scope=col>&lt;dbl&gt;</th><th scope=col>&lt;int&gt;</th></tr>\n",
       "</thead>\n",
       "<tbody>\n",
       "\t<tr><td>Model 1</td><td>0.01378962</td><td>4268</td></tr>\n",
       "\t<tr><td>Model 2</td><td>0.08335990</td><td>4268</td></tr>\n",
       "\t<tr><td>Model 3</td><td>0.20053447</td><td>4268</td></tr>\n",
       "</tbody>\n",
       "</table>\n"
      ],
      "text/latex": [
       "A data.frame: 3 × 3\n",
       "\\begin{tabular}{lll}\n",
       " Model & R\\_squared & Sample\\_Size\\\\\n",
       " <chr> & <dbl> & <int>\\\\\n",
       "\\hline\n",
       "\t Model 1 & 0.01378962 & 4268\\\\\n",
       "\t Model 2 & 0.08335990 & 4268\\\\\n",
       "\t Model 3 & 0.20053447 & 4268\\\\\n",
       "\\end{tabular}\n"
      ],
      "text/markdown": [
       "\n",
       "A data.frame: 3 × 3\n",
       "\n",
       "| Model &lt;chr&gt; | R_squared &lt;dbl&gt; | Sample_Size &lt;int&gt; |\n",
       "|---|---|---|\n",
       "| Model 1 | 0.01378962 | 4268 |\n",
       "| Model 2 | 0.08335990 | 4268 |\n",
       "| Model 3 | 0.20053447 | 4268 |\n",
       "\n"
      ],
      "text/plain": [
       "  Model   R_squared  Sample_Size\n",
       "1 Model 1 0.01378962 4268       \n",
       "2 Model 2 0.08335990 4268       \n",
       "3 Model 3 0.20053447 4268       "
      ]
     },
     "metadata": {},
     "output_type": "display_data"
    }
   ],
   "source": [
    "results <- data.frame(Model = c(\"Model 1\", \"Model 2\", \"Model 3\"),\n",
    "                      R_squared = c(summary(model1)$r.squared, summary(model2)$r.squared, summary(model3)$r.squared),\n",
    "                      Sample_Size = c(nrow(charity), nrow(charity), nrow(charity)))\n",
    "\n",
    "results"
   ]
  },
  {
   "cell_type": "markdown",
   "metadata": {},
   "source": [
    "説明変数が増えるにつれ, 決定係数が大きくなっている.  \n",
    "これは, 説明変数の増加によってモデルがより詳細に説明する能力を得るためである. ただし, むやみに説明変数を増加させればよいというわけではなく, 過学習の問題を考慮する必要がある."
   ]
  },
  {
   "cell_type": "markdown",
   "metadata": {},
   "source": [
    "#### 3."
   ]
  },
  {
   "cell_type": "markdown",
   "metadata": {},
   "source": [
    "$mailsyear$の係数は2.17であり, 年間で送られるメールの数が1増えると、寄付額が2.17程度増えると解釈できる.  \n",
    "また, この係数は単回帰モデルの場合(2.65)より小さくなっている. これは他の変数の影響を考慮した結果、$mailsyear$の影響が相対的に小さくなったためと考えられる."
   ]
  },
  {
   "cell_type": "markdown",
   "metadata": {},
   "source": [
    "#### 4."
   ]
  },
  {
   "cell_type": "markdown",
   "metadata": {},
   "source": [
    "$propresp$は, 送られたメールに対する応答の割合であり, モデル2ではその係数が15.36である.  \n",
    "つまり, 応答の割合が1%増えると, 寄付額が15.36増えると解釈できる."
   ]
  },
  {
   "cell_type": "markdown",
   "metadata": {},
   "source": [
    "#### 5."
   ]
  },
  {
   "cell_type": "markdown",
   "metadata": {},
   "source": [
    "モデル2とモデル3で, $giftlast$の係数が正から負に変化している.  \n",
    "これは, $giftlast$と$avggift$の相関(0.99)が強く, 多重共線性を起こしているためであると推測できる."
   ]
  },
  {
   "cell_type": "code",
   "execution_count": 6,
   "metadata": {
    "vscode": {
     "languageId": "r"
    }
   },
   "outputs": [
    {
     "data": {
      "text/html": [
       "0.992113087513734"
      ],
      "text/latex": [
       "0.992113087513734"
      ],
      "text/markdown": [
       "0.992113087513734"
      ],
      "text/plain": [
       "[1] 0.9921131"
      ]
     },
     "metadata": {},
     "output_type": "display_data"
    }
   ],
   "source": [
    "# giftlastとavggiftの相関係数\n",
    "correlation <- cor(charity$avggift, charity$giftlast)\n",
    "correlation\n",
    "# 0.992113087513734"
   ]
  },
  {
   "cell_type": "markdown",
   "metadata": {},
   "source": [
    "### 大問2"
   ]
  },
  {
   "cell_type": "code",
   "execution_count": 7,
   "metadata": {
    "vscode": {
     "languageId": "r"
    }
   },
   "outputs": [],
   "source": [
    "# discrimデータをロード\n",
    "data(\"discrim\")"
   ]
  },
  {
   "cell_type": "markdown",
   "metadata": {},
   "source": [
    "#### 1."
   ]
  },
  {
   "cell_type": "code",
   "execution_count": 8,
   "metadata": {
    "vscode": {
     "languageId": "r"
    }
   },
   "outputs": [
    {
     "data": {
      "text/html": [
       "<strong>$coefficients</strong> = <table class=\"dataframe\">\n",
       "<caption>A matrix: 4 × 4 of type dbl</caption>\n",
       "<thead>\n",
       "\t<tr><th></th><th scope=col>Estimate</th><th scope=col>Std. Error</th><th scope=col>t value</th><th scope=col>Pr(&gt;|t|)</th></tr>\n",
       "</thead>\n",
       "<tbody>\n",
       "\t<tr><th scope=row>(Intercept)</th><td>-1.46333208</td><td>0.29371104</td><td>-4.982217</td><td>9.400188e-07</td></tr>\n",
       "\t<tr><th scope=row>prpblck</th><td> 0.07280726</td><td>0.03067561</td><td> 2.373458</td><td>1.809760e-02</td></tr>\n",
       "\t<tr><th scope=row>log(income)</th><td> 0.13695523</td><td>0.02675544</td><td> 5.118780</td><td>4.802041e-07</td></tr>\n",
       "\t<tr><th scope=row>prppov</th><td> 0.38035969</td><td>0.13279029</td><td> 2.864364</td><td>4.400360e-03</td></tr>\n",
       "</tbody>\n",
       "</table>\n"
      ],
      "text/latex": [
       "\\textbf{\\$coefficients} = A matrix: 4 × 4 of type dbl\n",
       "\\begin{tabular}{r|llll}\n",
       "  & Estimate & Std. Error & t value & Pr(>\\textbar{}t\\textbar{})\\\\\n",
       "\\hline\n",
       "\t(Intercept) & -1.46333208 & 0.29371104 & -4.982217 & 9.400188e-07\\\\\n",
       "\tprpblck &  0.07280726 & 0.03067561 &  2.373458 & 1.809760e-02\\\\\n",
       "\tlog(income) &  0.13695523 & 0.02675544 &  5.118780 & 4.802041e-07\\\\\n",
       "\tprppov &  0.38035969 & 0.13279029 &  2.864364 & 4.400360e-03\\\\\n",
       "\\end{tabular}\n"
      ],
      "text/markdown": [
       "**$coefficients** = \n",
       "A matrix: 4 × 4 of type dbl\n",
       "\n",
       "| <!--/--> | Estimate | Std. Error | t value | Pr(&gt;|t|) |\n",
       "|---|---|---|---|---|\n",
       "| (Intercept) | -1.46333208 | 0.29371104 | -4.982217 | 9.400188e-07 |\n",
       "| prpblck |  0.07280726 | 0.03067561 |  2.373458 | 1.809760e-02 |\n",
       "| log(income) |  0.13695523 | 0.02675544 |  5.118780 | 4.802041e-07 |\n",
       "| prppov |  0.38035969 | 0.13279029 |  2.864364 | 4.400360e-03 |\n",
       "\n"
      ],
      "text/plain": [
       "$coefficients\n",
       "               Estimate Std. Error   t value     Pr(>|t|)\n",
       "(Intercept) -1.46333208 0.29371104 -4.982217 9.400188e-07\n",
       "prpblck      0.07280726 0.03067561  2.373458 1.809760e-02\n",
       "log(income)  0.13695523 0.02675544  5.118780 4.802041e-07\n",
       "prppov       0.38035969 0.13279029  2.864364 4.400360e-03\n"
      ]
     },
     "metadata": {},
     "output_type": "display_data"
    }
   ],
   "source": [
    "model <- lm(log(psoda) ~ prpblck + log(income) + prppov, data = discrim)\n",
    "summary(model)[\"coefficients\"]"
   ]
  },
  {
   "cell_type": "markdown",
   "metadata": {},
   "source": [
    "#### 2."
   ]
  },
  {
   "cell_type": "markdown",
   "metadata": {},
   "source": [
    "model:　$ \\log{(psoda)} = \\beta_0 + \\beta_1prpblck + \\beta_2\\log{(income)} + \\beta_3 prppov + u$"
   ]
  },
  {
   "cell_type": "code",
   "execution_count": 9,
   "metadata": {
    "vscode": {
     "languageId": "r"
    }
   },
   "outputs": [],
   "source": [
    "beta_hat_1 <- summary(model)$coefficients[\"prpblck\", \"Estimate\"]\n",
    "beta_hat_2 <- summary(model)$coefficients[\"log(income)\", \"Estimate\"]\n",
    "beta_hat_3 <- summary(model)$coefficients[\"prppov\", \"Estimate\"]"
   ]
  },
  {
   "cell_type": "markdown",
   "metadata": {},
   "source": [
    "model_a:　$ \\hat{\\log{(income)}} = \\hat{\\alpha_0} + \\hat{\\alpha_1} prpblck $  \n",
    "\n",
    "model_b:　$ \\hat{prppov} = \\hat{\\gamma_0} + \\hat{\\gamma_1} prpblck $  \n",
    "\n",
    "model_c:　$\\tilde{\\log{(psoda)}} = \\tilde{\\beta_0} + \\tilde{\\beta_1} prpblck $   "
   ]
  },
  {
   "cell_type": "code",
   "execution_count": 10,
   "metadata": {
    "vscode": {
     "languageId": "r"
    }
   },
   "outputs": [],
   "source": [
    "model_a <- lm(log(income) ~ prpblck, data = discrim)\n",
    "alpha_hat_1 <- summary(model_a)$coefficients[\"prpblck\", \"Estimate\"]\n",
    "\n",
    "model_b <- lm(prppov ~ prpblck, data = discrim)\n",
    "gamma_hat_1 <- summary(model_b)$coefficients[\"prpblck\", \"Estimate\"]\n",
    "\n",
    "model_c <- lm(log(psoda) ~ prpblck, data = discrim)"
   ]
  },
  {
   "cell_type": "markdown",
   "metadata": {},
   "source": [
    "$ \\tilde{\\beta_1} \\approx \\hat{\\beta_1} + \\hat{\\beta_2}\\hat{\\alpha_1} + \\hat{\\beta_3}\\hat{\\gamma_1} $　　を確認"
   ]
  },
  {
   "cell_type": "code",
   "execution_count": 11,
   "metadata": {
    "vscode": {
     "languageId": "r"
    }
   },
   "outputs": [
    {
     "data": {
      "text/html": [
       "0.0624662254037403"
      ],
      "text/latex": [
       "0.0624662254037403"
      ],
      "text/markdown": [
       "0.0624662254037403"
      ],
      "text/plain": [
       "[1] 0.06246623"
      ]
     },
     "metadata": {},
     "output_type": "display_data"
    }
   ],
   "source": [
    "beta_tilde_1 = summary(model_c)$coefficients[\"prpblck\", \"Estimate\"]\n",
    "beta_tilde_1\n",
    "# 0.0624662254037403"
   ]
  },
  {
   "cell_type": "code",
   "execution_count": 12,
   "metadata": {
    "vscode": {
     "languageId": "r"
    }
   },
   "outputs": [
    {
     "data": {
      "text/html": [
       "0.0623943196709311"
      ],
      "text/latex": [
       "0.0623943196709311"
      ],
      "text/markdown": [
       "0.0623943196709311"
      ],
      "text/plain": [
       "[1] 0.06239432"
      ]
     },
     "metadata": {},
     "output_type": "display_data"
    }
   ],
   "source": [
    "beta_hat_1 + (beta_hat_2 * alpha_hat_1) + (beta_hat_3 * gamma_hat_1)\n",
    "# 0.0623943196709311"
   ]
  },
  {
   "cell_type": "markdown",
   "metadata": {},
   "source": [
    "回帰解剖アプローチによる$\\beta_1$の推定量は0.062となった.  \n",
    "これは他の変数$income$や$prppov$の影響を取り除いた, $\\log{(psoda)}$ に対する$prpblck$の純粋な回帰係数といえる."
   ]
  },
  {
   "cell_type": "markdown",
   "metadata": {},
   "source": [
    "#### 3."
   ]
  },
  {
   "cell_type": "code",
   "execution_count": 13,
   "metadata": {
    "vscode": {
     "languageId": "r"
    }
   },
   "outputs": [
    {
     "data": {
      "text/html": [
       "<strong>$coefficients</strong> = <table class=\"dataframe\">\n",
       "<caption>A matrix: 5 × 4 of type dbl</caption>\n",
       "<thead>\n",
       "\t<tr><th></th><th scope=col>Estimate</th><th scope=col>Std. Error</th><th scope=col>t value</th><th scope=col>Pr(&gt;|t|)</th></tr>\n",
       "</thead>\n",
       "<tbody>\n",
       "\t<tr><th scope=row>(Intercept)</th><td>-0.84151459</td><td>0.29243178</td><td>-2.877644</td><td>4.223540e-03</td></tr>\n",
       "\t<tr><th scope=row>prpblck</th><td> 0.09755020</td><td>0.02926073</td><td> 3.333826</td><td>9.373070e-04</td></tr>\n",
       "\t<tr><th scope=row>log(income)</th><td>-0.05299049</td><td>0.03752607</td><td>-1.412098</td><td>1.587065e-01</td></tr>\n",
       "\t<tr><th scope=row>prppov</th><td> 0.05212273</td><td>0.13449918</td><td> 0.387532</td><td>6.985706e-01</td></tr>\n",
       "\t<tr><th scope=row>log(hseval)</th><td> 0.12130567</td><td>0.01768407</td><td> 6.859601</td><td>2.668125e-11</td></tr>\n",
       "</tbody>\n",
       "</table>\n"
      ],
      "text/latex": [
       "\\textbf{\\$coefficients} = A matrix: 5 × 4 of type dbl\n",
       "\\begin{tabular}{r|llll}\n",
       "  & Estimate & Std. Error & t value & Pr(>\\textbar{}t\\textbar{})\\\\\n",
       "\\hline\n",
       "\t(Intercept) & -0.84151459 & 0.29243178 & -2.877644 & 4.223540e-03\\\\\n",
       "\tprpblck &  0.09755020 & 0.02926073 &  3.333826 & 9.373070e-04\\\\\n",
       "\tlog(income) & -0.05299049 & 0.03752607 & -1.412098 & 1.587065e-01\\\\\n",
       "\tprppov &  0.05212273 & 0.13449918 &  0.387532 & 6.985706e-01\\\\\n",
       "\tlog(hseval) &  0.12130567 & 0.01768407 &  6.859601 & 2.668125e-11\\\\\n",
       "\\end{tabular}\n"
      ],
      "text/markdown": [
       "**$coefficients** = \n",
       "A matrix: 5 × 4 of type dbl\n",
       "\n",
       "| <!--/--> | Estimate | Std. Error | t value | Pr(&gt;|t|) |\n",
       "|---|---|---|---|---|\n",
       "| (Intercept) | -0.84151459 | 0.29243178 | -2.877644 | 4.223540e-03 |\n",
       "| prpblck |  0.09755020 | 0.02926073 |  3.333826 | 9.373070e-04 |\n",
       "| log(income) | -0.05299049 | 0.03752607 | -1.412098 | 1.587065e-01 |\n",
       "| prppov |  0.05212273 | 0.13449918 |  0.387532 | 6.985706e-01 |\n",
       "| log(hseval) |  0.12130567 | 0.01768407 |  6.859601 | 2.668125e-11 |\n",
       "\n"
      ],
      "text/plain": [
       "$coefficients\n",
       "               Estimate Std. Error   t value     Pr(>|t|)\n",
       "(Intercept) -0.84151459 0.29243178 -2.877644 4.223540e-03\n",
       "prpblck      0.09755020 0.02926073  3.333826 9.373070e-04\n",
       "log(income) -0.05299049 0.03752607 -1.412098 1.587065e-01\n",
       "prppov       0.05212273 0.13449918  0.387532 6.985706e-01\n",
       "log(hseval)  0.12130567 0.01768407  6.859601 2.668125e-11\n"
      ]
     },
     "metadata": {},
     "output_type": "display_data"
    }
   ],
   "source": [
    "model <- lm(log(psoda) ~ prpblck + log(income) + prppov + log(hseval), data = discrim)\n",
    "summary(model)[\"coefficients\"]"
   ]
  },
  {
   "cell_type": "markdown",
   "metadata": {},
   "source": [
    "$\\log{(seval)}$の回帰係数は0.121であり, これは$seval$が1%増加したときに, $psoda$が1%増加することを示している.  \n",
    "また, p値は$2.66\\times 10^{-11}$であり, 両側5%で有意である."
   ]
  },
  {
   "cell_type": "markdown",
   "metadata": {},
   "source": [
    "#### 4."
   ]
  },
  {
   "cell_type": "markdown",
   "metadata": {},
   "source": [
    "$\\log{(income)}$と$prppov$のp値はそれぞれ$1.59\\times10^{-1}$, $6.99\\times10^{-1}$ であり,  \n",
    "両側5%で有意ではない."
   ]
  },
  {
   "cell_type": "markdown",
   "metadata": {},
   "source": [
    "#### 5."
   ]
  },
  {
   "cell_type": "markdown",
   "metadata": {},
   "source": [
    "推定したモデルの結果を用いて価格差別があるかどうかを論じるために、prpblck（黒人の割合）の係数に着目する. この係数は正, そしてp値は$9.37\\times10^{-4}$であり, 統計的に有意である. ゆえに黒人の割合が高い地域でソーダの価格が高くなるという価格差別の傾向があると解釈できるが, 欠落変数が存在する可能性がある. \n",
    "\n",
    "欠落変数の例: 各地域における夏場の平均気温  \n",
    "夏場の平均気温が高い地域ではソーダの需要が大きく, 価格が高くなると予測できる. そして, その地域における黒人割合が高ければ, 黒人割合が高い$\\Rightarrow$ソーダの価格が高いという疑似相関が発生する可能性がある."
   ]
  }
 ],
 "metadata": {
  "kernelspec": {
   "display_name": "R",
   "language": "R",
   "name": "ir"
  },
  "language_info": {
   "codemirror_mode": "r",
   "file_extension": ".r",
   "mimetype": "text/x-r-source",
   "name": "R",
   "pygments_lexer": "r",
   "version": "4.4.0"
  }
 },
 "nbformat": 4,
 "nbformat_minor": 2
}
